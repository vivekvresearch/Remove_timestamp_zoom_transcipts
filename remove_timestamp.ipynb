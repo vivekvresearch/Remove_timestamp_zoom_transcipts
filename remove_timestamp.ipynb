{
 "cells": [
  {
   "cell_type": "markdown",
   "id": "20267c1b",
   "metadata": {},
   "source": [
    "## Removing timestamp from zoom transcipts"
   ]
  },
  {
   "cell_type": "markdown",
   "id": "6fd3d40e",
   "metadata": {},
   "source": [
    "### Version: 1.0"
   ]
  },
  {
   "cell_type": "markdown",
   "id": "c313477b",
   "metadata": {},
   "source": [
    "#### Things to note:\n",
    "1. Make sure the transcript is in the .txt format\n",
    "2. Make sure that the file is either located in the same path as the jupyter file or make sure the .txt file is uploaded using jupyter.\n",
    "3. This is code is designed for one file at a time. Multiple upload will be updated soon.\n",
    "4. I have checked this code only for zoom generated transcripts\n",
    "5. TODO generating a new line based on the speaker"
   ]
  },
  {
   "cell_type": "markdown",
   "id": "0c2b13fc",
   "metadata": {},
   "source": [
    "#### Importing the relevant libs"
   ]
  },
  {
   "cell_type": "code",
   "execution_count": 38,
   "id": "ed895957",
   "metadata": {},
   "outputs": [],
   "source": [
    "# import libs\n",
    "import pandas as pd\n",
    "from datetime import datetime\n",
    "import re"
   ]
  },
  {
   "cell_type": "markdown",
   "id": "805836f0",
   "metadata": {},
   "source": [
    "#### Reading the file\n",
    "1. Note: replace 'g_tt.txt' with your file name"
   ]
  },
  {
   "cell_type": "code",
   "execution_count": 39,
   "id": "dbfe3a43",
   "metadata": {},
   "outputs": [],
   "source": [
    "# reading the .txt file and storing it as 'text' variable\n",
    "with open('g_tt.txt', encoding='utf-8',errors='ignore', mode='r+') as f:\n",
    "    text = f.read()\n",
    "f.close()"
   ]
  },
  {
   "cell_type": "markdown",
   "id": "59b9a637",
   "metadata": {},
   "source": [
    "#### Converting the text file into a list for ease of operation"
   ]
  },
  {
   "cell_type": "code",
   "execution_count": 40,
   "id": "64034878",
   "metadata": {},
   "outputs": [
    {
     "data": {
      "text/plain": [
       "['WEBVTT', '1', '00:00:01.079', '-->', '00:00:02.669']"
      ]
     },
     "execution_count": 40,
     "metadata": {},
     "output_type": "execute_result"
    }
   ],
   "source": [
    "text1 = text.split()\n",
    "text1[:5]"
   ]
  },
  {
   "cell_type": "markdown",
   "id": "467a62d1",
   "metadata": {},
   "source": [
    "#### Removing the special character '-->' and timestamp from the list"
   ]
  },
  {
   "cell_type": "code",
   "execution_count": 41,
   "id": "df008101",
   "metadata": {},
   "outputs": [],
   "source": [
    "something = ['-->'] # remove the arrow signs from the transcript\n",
    "text2 = [x for x in text1 if x not in something]\n",
    "\n",
    "# removing the time stamp:\n",
    "# Source for the regex https://stackoverflow.com/questions/8318236/regex-pattern-for-hhmmss-time-string \n",
    "\n",
    "text3 = [x for x in text2 if x != '' and not re.search (r'(^(?:(?:([01]?\\d|2[0-3]):)?([0-5]?\\d):)?([0-5]?\\d)(\\.(\\d{1,9}))?$)', x)]"
   ]
  },
  {
   "cell_type": "markdown",
   "id": "016a04c6",
   "metadata": {},
   "source": [
    "#### Converting the list to string"
   ]
  },
  {
   "cell_type": "code",
   "execution_count": 42,
   "id": "6c5f8102",
   "metadata": {},
   "outputs": [],
   "source": [
    "clean_text = ' '.join(text3)\n",
    "# clean_text not printing this due to data protection"
   ]
  },
  {
   "cell_type": "markdown",
   "id": "f7325e7e",
   "metadata": {},
   "source": [
    "#### Creating a new .txt file without timestamp\n",
    "1. Change the file name as per need."
   ]
  },
  {
   "cell_type": "code",
   "execution_count": 43,
   "id": "1366a75c",
   "metadata": {},
   "outputs": [],
   "source": [
    "with open(\"Output.txt\", \"w\") as f:\n",
    "    f.write(clean_text)\n",
    "f.close()"
   ]
  },
  {
   "cell_type": "code",
   "execution_count": null,
   "id": "371b5e7f",
   "metadata": {},
   "outputs": [],
   "source": []
  }
 ],
 "metadata": {
  "kernelspec": {
   "display_name": "Python 3",
   "language": "python",
   "name": "python3"
  },
  "language_info": {
   "codemirror_mode": {
    "name": "ipython",
    "version": 3
   },
   "file_extension": ".py",
   "mimetype": "text/x-python",
   "name": "python",
   "nbconvert_exporter": "python",
   "pygments_lexer": "ipython3",
   "version": "3.8.10"
  }
 },
 "nbformat": 4,
 "nbformat_minor": 5
}
