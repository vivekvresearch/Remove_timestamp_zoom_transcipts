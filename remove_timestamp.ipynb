{
 "cells": [
  {
   "cell_type": "markdown",
   "id": "20267c1b",
   "metadata": {},
   "source": [
    "## Removing timestamp from zoom transcipts"
   ]
  },
  {
   "cell_type": "markdown",
   "id": "6fd3d40e",
   "metadata": {},
   "source": [
    "### Version: 1.0"
   ]
  },
  {
   "cell_type": "markdown",
   "id": "c313477b",
   "metadata": {},
   "source": [
    "#### Things to note:\n",
    "1. Make sure the transcript is in the .txt format\n",
    "2. Make sure that the file is either located in the same path as the jupyter file or make sure the .txt file is uploaded using jupyter.\n",
    "3. This is code is designed for one file at a time. Multiple upload will be updated soon.\n",
    "4. I have checked this code only for zoom generated transcripts\n",
    "5. TODO generating a new line based on the speaker"
   ]
  },
  {
   "cell_type": "markdown",
   "id": "0c2b13fc",
   "metadata": {},
   "source": [
    "#### Importing the relevant libs"
   ]
  },
  {
   "cell_type": "code",
   "execution_count": 30,
   "id": "ed895957",
   "metadata": {},
   "outputs": [],
   "source": [
    "# import libs\n",
    "import pandas as pd\n",
    "from datetime import datetime\n",
    "import re"
   ]
  },
  {
   "cell_type": "markdown",
   "id": "805836f0",
   "metadata": {},
   "source": [
    "#### Reading the file\n",
    "1. Note: replace 'g_tt.txt' with your file name"
   ]
  },
  {
   "cell_type": "code",
   "execution_count": 31,
   "id": "dbfe3a43",
   "metadata": {},
   "outputs": [],
   "source": [
    "# reading the .txt file and storing it as 'text' variable\n",
    "with open('g_tt.txt', encoding='utf-8',errors='ignore', mode='r+') as f:\n",
    "    text = f.read()\n",
    "f.close()"
   ]
  },
  {
   "cell_type": "markdown",
   "id": "59b9a637",
   "metadata": {},
   "source": [
    "#### Converting the text file into a list for ease of operation"
   ]
  },
  {
   "cell_type": "code",
   "execution_count": 33,
   "id": "64034878",
   "metadata": {},
   "outputs": [
    {
     "data": {
      "text/plain": [
       "['WEBVTT', '1', '00:00:01.079', '-->', '00:00:02.669']"
      ]
     },
     "execution_count": 33,
     "metadata": {},
     "output_type": "execute_result"
    }
   ],
   "source": [
    "text1 = text.split()\n",
    "text1[:5]"
   ]
  },
  {
   "cell_type": "markdown",
   "id": "467a62d1",
   "metadata": {},
   "source": [
    "#### Removing the special character '-->' and timestamp from the list"
   ]
  },
  {
   "cell_type": "code",
   "execution_count": 34,
   "id": "df008101",
   "metadata": {},
   "outputs": [
    {
     "data": {
      "text/plain": [
       "['WEBVTT',\n",
       " 'Vivek',\n",
       " 'Venugopal:',\n",
       " 'OK,',\n",
       " 'and',\n",
       " 'now',\n",
       " 'recording.',\n",
       " 'Gokhan',\n",
       " 'Gokmen:',\n",
       " 'Hello.']"
      ]
     },
     "execution_count": 34,
     "metadata": {},
     "output_type": "execute_result"
    }
   ],
   "source": [
    "something = ['-->'] # remove the arrow signs from the transcript\n",
    "text2 = [x for x in text1 if x not in something]\n",
    "\n",
    "# removing the time stamp:\n",
    "# Source for the regex https://stackoverflow.com/questions/8318236/regex-pattern-for-hhmmss-time-string \n",
    "\n",
    "text3 = [x for x in text2 if x != '' and not re.search (r'(^(?:(?:([01]?\\d|2[0-3]):)?([0-5]?\\d):)?([0-5]?\\d)(\\.(\\d{1,9}))?$)', x)]\n",
    "\n",
    "text3[:10] # The time stamp has been removed"
   ]
  },
  {
   "cell_type": "markdown",
   "id": "016a04c6",
   "metadata": {},
   "source": [
    "#### Converting the list to string"
   ]
  },
  {
   "cell_type": "code",
   "execution_count": 36,
   "id": "6c5f8102",
   "metadata": {},
   "outputs": [
    {
     "data": {
      "text/plain": [
       "\"WEBVTT Vivek Venugopal: OK, and now recording. Gokhan Gokmen: Hello. Vivek Venugopal: Hello go on good morning hope you're doing well, good. Gokhan Gokmen: Do you have any formal introduction. Vivek Venugopal: No, not really I didn't I did not prepare it with you for you so because we know each other but impromptu I just do that impromptu. Vivek Venugopal: Sorry, because I don't have an introduction, because most of them know me already because I mean there's not some changes here but already in the project, we were working, so I think there will be an element of in formality over there. Vivek Venugopal: So they know me and they know the project, so I don't think it would be that necessary to create around two minutes for an introduction. Vivek Venugopal: Okay, so go can. Vivek Venugopal: Let me start with the interview, so this is going to be an informal setting and just exchange thoughts any time you feel uncomfortable then just let me know that you don't want to answer it fine by me. Vivek Venugopal: So let me take you back to the beginning of the project, when the when you were looking searching for Articles searching for information that would support the project now. Vivek Venugopal: Can you tell me about your experiences during the stage what happened, how were you searching anything anything at all your experience. Gokhan Gokmen: So we we I don't remember if we agreed on a set of key terms, but I was responsible for searching such keywords on on journal article database, so I took the keywords. Gokhan Gokmen: Somewhere somewhat semi. Gokhan Gokmen: systematically search. Gokhan Gokmen: publications online. Gokhan Gokmen: And then it wasn't a fully systematic review, but I went through a lot of. Gokhan Gokmen: Applications downloaded them into an notes and then from there, I started treating abstracts and introductions and try to identify which of these applications might be useful for the project. Vivek Venugopal: Interesting now, you said that you know it was semi literature review. Vivek Venugopal: What made it semi what were the obstacles or was it your own choice, why did you limit that. Gokhan Gokmen: While there was a time problem, of course, the project. Gokhan Gokmen: A full fledged systematic review take will take longer time. Gokhan Gokmen: So, and we had. Gokhan Gokmen: A week or two weeks for for identifying the relevant. Gokhan Gokmen: applications and identifying. Gokhan Gokmen: Key points and potential key drivers that might fit into the scenario workshop process. Gokhan Gokmen: which meant. Gokhan Gokmen: You know, being being practical about it, so I. Gokhan Gokmen: If there were I don't know. Gokhan Gokmen: pages of heads, I went through over 1012 but not full pages. Vivek Venugopal: there's always a trade off isn't it because it's a time limitation. Vivek Venugopal: yeah you have so much because it's better. Gokhan Gokmen: than and then I have to read them and also. Gokhan Gokmen: find what was relevant to them and also put them on the excel share with the other TEAM members. Vivek Venugopal: yeah that's that's a good point, so the accent, what about the workbook you're referring to the workbook isn't it when you said accent. Gokhan Gokmen: yeah that it that it became work it wasn't worth it part of that became work. Vivek Venugopal: Okay, so what's your opinion on the workbook this this information structure that you were developing excel and then the workbook what. Vivek Venugopal: If you have any feelings I. Gokhan Gokmen: didn't do the workbook. Gokhan Gokmen: So it was Catalina it. Gokhan Gokmen: I don't remember what the workbook was like because then I had other issues, so I couldn't continue in the project. Okay. Gokhan Gokmen: I think I took a look at the workbook and it was it was quite concise in a good way. Gokhan Gokmen: It had all the. Gokhan Gokmen: literature review scan outcomes. Gokhan Gokmen: There was a problem which which. Gokhan Gokmen: George wallace about that. Gokhan Gokmen: The focus should have been on. Gokhan Gokmen: External pestle factors, so I think our Lena spend a bit more time and. Gokhan Gokmen: sorted out. Gokhan Gokmen: Because while I was reading the literature I wasn't only looking for past some factors I. Gokhan Gokmen: I think I also included other variables like including values, for instance. Gokhan Gokmen: people's feelings values about future education future, the future of higher education. Gokhan Gokmen: Such. Gokhan Gokmen: So the workbook was done by carolyn and she had experienced before i'm sure she did it well. Vivek Venugopal: Okay, so. Vivek Venugopal: Have you seen the workbook. Gokhan Gokmen: I believe I have, because when I thought about workbook I something at image or workbook comes up, to my mind, I. Gokhan Gokmen: I. Gokhan Gokmen: Can almost see it in my head. 60 Vivek Venugopal: Okay, it is. 61 Gokhan Gokmen: In South lights. 62 Gokhan Gokmen: it's here, I can take a look at it at two lunches no. 63 Vivek Venugopal: No that's okay that's completely fine what I wanted to take further was. 64 Vivek Venugopal: Now, you said that the workbook workbook was confined to going quite well organized and Catalina did a good job now my my question is heading towards. 65 Vivek Venugopal: The information contained in the workbook do you think it was cluttered do you think you could go through that easily get a picture of what what was being trying to be communicated through the workbook. 66 Vivek Venugopal: Was it exhaustive or was information not or were you satisfied, did you feel it was it good job, can you can you speak about these things. 67 Gokhan Gokmen: Yes, so i'm looking at the workbook. 68 Gokhan Gokmen: So the word the file. 69 Gokhan Gokmen: named workbook is what we did curly now you and me. 70 Gokhan Gokmen: You baker Lena images. 71 Gokhan Gokmen: But why you talk about Ryan referred to workbook you mean the final. 72 Gokhan Gokmen: Final. 73 Gokhan Gokmen: The final that's been sent to the participants now. 74 Vivek Venugopal: Or is the workbook the work to develop, you know it. 75 Vivek Venugopal: was a raw format and then we started adding information it's got built up it's got bit changed it got structured added deletions and then the final version well too, so you know, there was a big journey of the workbook. 76 Vivek Venugopal: It you know information was filled in information was deleted updated, it was it was kind of a life file, I can say so, you know in this. 77 Vivek Venugopal: What do you think about the information being added in removed updated changed So what do you think about it, when you look at the workbook the journey of the workbook itself what's your opinion. 78 Gokhan Gokmen: I don't. 79 Vivek Venugopal: Know fair enough, it was it was a big journey, especially with you know everything going electronic and quite sure. 80 Vivek Venugopal: yeah now. 81 Gokhan Gokmen: yeah i'm doing know what this needs. 82 Gokhan Gokmen: To be. 83 Vivek Venugopal: No that's all right now, can you tell me some of the practicalities that you faced during data collection and workbook reputation. 84 Gokhan Gokmen: As a collection and work through what the challenges what's. 85 Vivek Venugopal: practicalities I mean practicality, is could be both good, as well as side. 86 Vivek Venugopal: or issues. 87 Gokhan Gokmen: standard procedure, so it wasn't necessarily. 88 Gokhan Gokmen: own personal problems I had problems with Internet connection. 89 Gokhan Gokmen: Well, but other than that. 90 Gokhan Gokmen: It was fairly straightforward. 91 Gokhan Gokmen: The keywords we decided on, and I know i'm pretty sure we decided on. 92 Gokhan Gokmen: The set of keywords I remember vaguely talking to you and currently. 93 Gokhan Gokmen: So that was the most important parts, maybe we could have spent bit more time on that. 94 Gokhan Gokmen: At that done. 95 Gokhan Gokmen: No need to overcomplicate things so what we what we thought about was correct and it generated quite a few. 96 Vivek Venugopal: applications. 97 Okay. 98 Gokhan Gokmen: No, I mean. 99 Gokhan Gokmen: I was, I was lucky because I had database searches. 100 Gokhan Gokmen: That you can't really go wrong with those if he. 101 Gokhan Gokmen: Did you know carefully, so it is time consuming but other than that. 102 Gokhan Gokmen: And, of course. 103 Gokhan Gokmen: If if I had someone else doing database search. 104 Gokhan Gokmen: Maybe we could we could go through the same batch of pool of public. 105 Gokhan Gokmen: And then compare like they do in the in you know, scientific research. 106 Gokhan Gokmen: So that didn't happen because it was only me responsible for databases and you were responsible for something else we all try to cover all the corners. 107 Gokhan Gokmen: men's you know every one of us doing something else. 108 Gokhan Gokmen: But i'm guessing for snipers Sir is. 109 Gokhan Gokmen: They don't really necessarily. 110 Gokhan Gokmen: Do a full fledged. 111 Gokhan Gokmen: Scientific research. 112 Gokhan Gokmen: processes so. 113 Gokhan Gokmen: The time time time. 114 Gokhan Gokmen: Time time was. 115 Only. 116 Vivek Venugopal: Your in your database courage i'm quite sure you come across information, where you'd have rejected, you know some sort of. 117 Vivek Venugopal: system you'd have had, or even a heuristic system, the system i'm not you were very scientifically very colloquially you know some sort of a model where you would accept or reject information. 118 Vivek Venugopal: So why did you reject and what was your reasoning you're you're kind of an intuition, if I can say, or even. 119 Gokhan Gokmen: reject them so from easy to hard. 120 Gokhan Gokmen: it's easy if the paper talks about higher education. 121 Gokhan Gokmen: And the future. 122 Gokhan Gokmen: As a. 123 Gokhan Gokmen: If it's if these topics, not on the top of the list, but like somewhere at the bottom. 124 Gokhan Gokmen: it's sometimes because you know semantic research. 125 Gokhan Gokmen: Sometimes picks up these papers that don't really focus on the issue you are looking for they're more like a passing by thoughts or even not even that so it could be that somewhere in the article, they may have written higher education and somewhere else, the future. 126 Gokhan Gokmen: Higher Education, but not necessarily really talking about it and there's nothing valuable information so that an easy discard. 127 Gokhan Gokmen: discard them. 128 Gokhan Gokmen: If I tend to include I always include not tend to if there's any any potentially useful information about the subject i'm looking for i'm quite cautious about discarding them i'm I tend to keep them as long as possible and. 129 Gokhan Gokmen: Go back to them reread them then until finally it's clear to me that I finally discard them. 130 Gokhan Gokmen: The files are discarded, they were not really talking about what we were looking for. 131 Gokhan Gokmen: or not. 132 Gokhan Gokmen: that's that's what I remember basically. 133 Vivek Venugopal: Okay yeah. 134 Vivek Venugopal: So now. 135 Vivek Venugopal: Let me. 136 Vivek Venugopal: move ahead in the process of a scenario planning from database search to the drivers or the clusters that were recognized by another team of alumni who was you know, given the responsibility of finding the drivers and you know things, so let me share that screen with you. 137 Gokhan Gokmen: Now, which one is it I have. 138 Vivek Venugopal: The three key clusters five. 139 Gokhan Gokmen: yeah I have them opening for me so key class machine learning machine learning to two clusters. 140 Vivek Venugopal: yeah so now i'm. 141 Vivek Venugopal: On. 142 Gokhan Gokmen: And on the right hand side. 143 Vivek Venugopal: You can see that. 144 Vivek Venugopal: The file on you know the the slide which you have the two are the clusters generated by machine learning. 145 Vivek Venugopal: And the right side for comparison is the one which is generated through desk research yeah. 146 Vivek Venugopal: Now volume by yes, there is a big difference, but. 147 Gokhan Gokmen: The research ones. 148 Gokhan Gokmen: What you currently nine meters. 149 Vivek Venugopal: know this was from the workbook that we all can bind data was filtered you know, there was a flow chart which was done flow of information, and you know kind of the drivers are identified by the alumni team and not what. 150 Vivek Venugopal: They went through the workbook and came up that these are the ones which are going to be the drivers for. 151 Vivek Venugopal: Okay, these are the scenarios yeah. 152 Gokhan Gokmen: Top top 11. 153 Vivek Venugopal: yeah so now compared to the one on the depth research. 154 Vivek Venugopal: Now, what do you think about the machine learning. 155 Vivek Venugopal: clusters that's been identified. 156 Gokhan Gokmen: I think. 157 Gokhan Gokmen: quite similar. 158 Gokhan Gokmen: Because I. 159 Gokhan Gokmen: I was really relabeling all of these weren't high, so I easily remember quite a few of them. 160 Gokhan Gokmen: Learning experiences was covered in in machine learning lifelong learning, was included. 161 Gokhan Gokmen: Innovation access know which is, including key clusters of machine learning. 162 Gokhan Gokmen: Ecological change it's. 163 Gokhan Gokmen: Maybe in the form of sustainability in in machine learning clusters. 164 Gokhan Gokmen: But also, there are differences. 165 Gokhan Gokmen: as well. 166 Gokhan Gokmen: So nature of change also is in in machine learning key clusters. 167 Gokhan Gokmen: But also, I remember, there were. 168 Gokhan Gokmen: Different. 169 Gokhan Gokmen: findings. 170 Gokhan Gokmen: In machine learning. 171 Gokhan Gokmen: outcomes that wasn't necessarily. 172 Gokhan Gokmen: I don't see them here on the right. 173 Vivek Venugopal: So, of course, there will be some small changes here and there, but my question would be are you able to find a meaningful difference between the two. 174 yeah. 175 Gokhan Gokmen: So. 176 Gokhan Gokmen: Okay well the clusters emphasize on nba. 177 Gokhan Gokmen: And I don't see that, on the right hand side necessarily but that doesn't mean MBA was not thought of was the project on the future of MBA. 178 Vivek Venugopal: No business schools search reflected on mbas as well, even in the deck research. 179 Vivek Venugopal: Rights but. 180 Gokhan Gokmen: For some reason MBA doesn't seem to be emphasized, or maybe its inherent. 181 Gokhan Gokmen: not put out. 182 Gokhan Gokmen: not treating like MBA something something, but it seems like. 183 Gokhan Gokmen: If, for some reason Zurich people didn't emphasize nba a lot, then. 184 Gokhan Gokmen: That machine learning talks about nba. 185 Gokhan Gokmen: quite frequently so that would be a game. 186 Gokhan Gokmen: Okay, can I start, one by one. 187 Vivek Venugopal: sure. 188 Gokhan Gokmen: Sure, so. 189 Gokhan Gokmen: Right column, but some online and technology learning preferences. 190 Gokhan Gokmen: That is. 191 Gokhan Gokmen: sort of covered in the desk research in terms of digital innovation access knowledge but not very specific. 192 Gokhan Gokmen: change an MBA it's not included at all. 193 Gokhan Gokmen: employer offers for lachlan that is covers. 194 Gokhan Gokmen: nba again it's not very apparent in the desk research. 195 Gokhan Gokmen: employable skills, it is probably included in lifelong learning. 196 Gokhan Gokmen: and learning experiences for life. 197 Gokhan Gokmen: Skills and changing times. 198 Gokhan Gokmen: yeah so. 199 Gokhan Gokmen: I think this is inputs on desk research didn't cover what kind of change might be coming. 200 Gokhan Gokmen: So this is more static. 201 Gokhan Gokmen: and not on the movement, if that makes sense, so changing skills and. 202 Gokhan Gokmen: That needs to be taught in business skills, so this is this is something I believe should have been included in. 203 Gokhan Gokmen: Which which would really. 204 Gokhan Gokmen: contribute to discussions in the workshops what might be changing. 205 Gokhan Gokmen: What he taught. 206 Gokhan Gokmen: So. 207 Gokhan Gokmen: That that's not here time to change MBA and business school curriculum. 208 Gokhan Gokmen: yeah that's part of the change. 209 Gokhan Gokmen: theme, if you call it. 210 Gokhan Gokmen: So that is not be a prominent in. 211 Gokhan Gokmen: outdoor play bass teaching it simplification will be internship opportunities, maybe or. 212 Gokhan Gokmen: are bothered volunteering this isn't covered, this is not covered in this research. 213 Gokhan Gokmen: Continuous learning. 214 Gokhan Gokmen: It is covered in lifelong learning kinda. 215 Gokhan Gokmen: Skills emotions. 216 Gokhan Gokmen: Not in emotions for a. 217 Gokhan Gokmen: classroom based MBA moving towards technology based education. 218 Gokhan Gokmen: yeah that that one is culprits by digital innovation and access to knowledge. 219 Gokhan Gokmen: I think. 220 Gokhan Gokmen: time spent on MBA and its impact on job or work time spent on MBA. 221 Gokhan Gokmen: hmm again MBA. 222 Gokhan Gokmen: I have no clue what's. 223 Gokhan Gokmen: These desk research. 224 Gokhan Gokmen: key drivers. 225 Gokhan Gokmen: Think about MBA so I all mbas are, I would say. 226 Gokhan Gokmen: Is a game. 227 Gokhan Gokmen: As opposed to desk research key clusters. 228 Gokhan Gokmen: Virtual classroom education. 229 Gokhan Gokmen: encounters learning online learning yeah teacher plus effectiveness. 230 Gokhan Gokmen: Increasing energy supply and costs. 231 Gokhan Gokmen: What is this. 232 Vivek Venugopal: The energy supply, the general energy that we consume it could be electricity, gas or anything but the keyboard reflective of energy. 233 Vivek Venugopal: yeah increasing. 234 Vivek Venugopal: energy supplies, as well as the cost of that energy being supplied within three. 235 Gokhan Gokmen: or in higher education context, what what does it really mean. 236 Vivek Venugopal: that's a very good question. 237 Vivek Venugopal: So what. 238 Vivek Venugopal: would that mean. 239 Vivek Venugopal: I mean, this is something which has been discovered by the algorithm. 240 Gokhan Gokmen: Is it like universities not willing to. 241 Gokhan Gokmen: run the possibilities anymore, and ask the students to go study at home, so that. 242 Gokhan Gokmen: The cost will be passed on to. 243 Gokhan Gokmen: The class. 244 Vivek Venugopal: Now this interpretation I mean, as of now, this research is not gone to that interpretation page yet, so this is something that would be discussed again, this would be the next step. 245 Vivek Venugopal: yeah oh my question would be my follow up question actually was the one which you asked me, do you think that the scenarios which were developed. 246 Vivek Venugopal: Earlier, based on the desk research would that be different from the ones which would be generated by the machine learning algorithm one, as in the cluster if you were given a cluster. 247 Vivek Venugopal: of machine learning enough to generate scenarios of the future. 248 Vivek Venugopal: yeah that's the difference, the ones you project would that be different from what has been projected research we. 249 Gokhan Gokmen: Can you, by any chance, find. 250 Gokhan Gokmen: Not the final forms 1011 key drivers. 251 Gokhan Gokmen: Like you have here. 252 Gokhan Gokmen: A little bit more. 253 Gokhan Gokmen: not fully structured one, I think it will be easier to compare. 254 Vivek Venugopal: Absolutely, I can share that with you right now, or share the screen. 255 Vivek Venugopal: Can you bear with me. 256 Gokhan Gokmen: Or, or you you grew up some of these costs key key drivers well I don't know what these are exactly. 257 Gokhan Gokmen: Like levels are quite difference long on the right hand side is more structured more more thematic but on the left hand side is more categorical it's not fully themes. 258 Vivek Venugopal: I haven't I haven't flustered them I haven't clustered them at all it's just that I mean i've just whatever was the output and the labeling each topic, however, the output was I just put them in there. 259 Vivek Venugopal: It is taking longer than expected. 260 Gokhan Gokmen: Because if they haven't really focused on MBA very much then, of course, I would say, based on these machine learning findings. 261 Gokhan Gokmen: People would be inclined to. 262 Gokhan Gokmen: Think about MBA. 263 Gokhan Gokmen: more frequently. 264 Gokhan Gokmen: So this is the main differences see. 265 Vivek Venugopal: rate. 266 Vivek Venugopal: But would this substantially shift the scenarios that you have you would have projected or would it be something you would say that maybe in the scenario development stage it couldn't impact so much and. 267 Vivek Venugopal: let's assume that you are the person who are generating the scenarios and you say that with the information provided, how would you project. 268 Vivek Venugopal: Your scenarios compared to the ones which have already been generated would that be substantially different or would that be more or less the same something like that. 269 Gokhan Gokmen: I think more or less the same. 270 Vivek Venugopal: Okay, all right. 271 Gokhan Gokmen: focus on nba. 272 Gokhan Gokmen: Being one main difference would be. 273 Gokhan Gokmen: The key words somehow. 274 Gokhan Gokmen: Is is makes me all the way they think about the change changing time in time skills learn in business, so what this doesn't include is. 275 Gokhan Gokmen: yep the content delivered in business skills, which is important. 276 Gokhan Gokmen: element should have been included it's not here, so there are important differences but not. 277 Gokhan Gokmen: Nothing. 278 Gokhan Gokmen: groundbreaking clean, you know difference. 279 Vivek Venugopal: Okay. 280 Gokhan Gokmen: I will say this research is good. 281 Gokhan Gokmen: But machine learning outcomes complimentary. 282 Gokhan Gokmen: Getting bringing more more aspects. 283 Gokhan Gokmen: onto the table so that. 284 Gokhan Gokmen: People can discuss. 285 Gokhan Gokmen: outcome in terms of outcomes, I think the outcomes might change, but if they did. 286 Gokhan Gokmen: intuitive logic choosing to uncertain. 287 Gokhan Gokmen: And most impactful ones. 288 Gokhan Gokmen: So that depends on the group dynamic. 289 Gokhan Gokmen: let's say MBA wouldn't be on the top two. 290 Gokhan Gokmen: So that they I would perceive it as. 291 Gokhan Gokmen: An important part of Business School but not necessarily. 292 Gokhan Gokmen: You know, a key driver to fully formed. 293 Gokhan Gokmen: The scenarios, so that will be included in the in the narrative. 294 Gokhan Gokmen: But wouldn't really. 295 Gokhan Gokmen: Really different or change the scenario structure at all i'm changing content skills being taught. 296 Gokhan Gokmen: No that wouldn't be. 297 Gokhan Gokmen: That wouldn't be. 298 Gokhan Gokmen: to one of the two critical drivers settle, so no. 299 Gokhan Gokmen: They went for sustainability. 300 Gokhan Gokmen: And and world order as as two key uncertainties. 301 Gokhan Gokmen: To to form structure the scenarios. 302 Vivek Venugopal: assume that. 303 Vivek Venugopal: You feel that. 304 Vivek Venugopal: There is no. 305 Vivek Venugopal: Major or another, let me say a very big meaningful difference that would. 306 Vivek Venugopal: incite so much that the scenarios will be completely different. 307 Vivek Venugopal: From the one rated by. 308 Gokhan Gokmen: I think. 309 Gokhan Gokmen: yeah because it's it comes down to the two key uncertainties they choose to. 310 Gokhan Gokmen: generate develop scenarios. 311 Vivek Venugopal: No absolutely. 312 Gokhan Gokmen: So that's why. 313 Gokhan Gokmen: that's why there's nothing in machine learning less that could be potentially used as a most important uncertainty. 314 So now. 315 Vivek Venugopal: that's that's interesting, but now. 316 Vivek Venugopal: Thank you seen both the cluster the machine learning clusters, as well as the death based research now. 317 Vivek Venugopal: David, what do you think about using machine learning a. 318 Vivek Venugopal: Cluster identification what's your opinion on that, what are the advantages or disadvantages that you feel that it or first is, what do you feel about it. 319 Gokhan Gokmen: I like them. 320 Gokhan Gokmen: I think they are very. 321 Gokhan Gokmen: On spot. 322 Gokhan Gokmen: there's so much about MBA i'm not sure if it's your search algorithm or or maybe just came, naturally, because the majority of discussions on the picture of higher education, like be related to MBA and that's why we may have these mini MBA related outcomes. 323 Gokhan Gokmen: Did you did you run the same. 324 Gokhan Gokmen: keywords on your machine. 325 Vivek Venugopal: Yes, so it was basically the ones which we. 326 Vivek Venugopal: Use initially that the future of higher education to Business School future of lifelong learning, this kind of the exhaustive keep. 327 Gokhan Gokmen: Okay well. 328 Vivek Venugopal: i'm assuming because the Business School search, you know MBA being a part of business schools, they must be flexible. 329 and 330 Gokhan Gokmen: I know a lot of discussions on the future of higher education started with scrutinizing MBA programs a couple of. 331 Gokhan Gokmen: Years ago, so it's on match that we have now nba a quite a lot here. 332 Gokhan Gokmen: Also, one thing in machine learning. 333 Gokhan Gokmen: It was. 334 Gokhan Gokmen: As if I were education as a company and its brand influence is profitability kind of issues emerged in machine learning, whereas in desk research I don't see, we see that oh. 335 Gokhan Gokmen: yeah brandi influence on employments I think this is quite good and. 336 Vivek Venugopal: Now let me go back to the starting of the interview right so where we discussed about the various challenges, all of us faced each challenge being unique. 337 Vivek Venugopal: But we have time pressure, as you said earlier time pressure and then going through the last literature's and being practical about it so now, these are one story so i'm quite sure more that the more people, I asked the most stories that are going to come now. 338 Vivek Venugopal: In with respect to this, do you think machine learning would be an advantage, or a disadvantage or would there be challenges, what do you see what's your opinion of using machine learning for information gathering and scenario planning. 339 Vivek Venugopal: As again. 340 Vivek Venugopal: desk research. 341 Gokhan Gokmen: For this part of test research I think it's good for time time saving purposes. 342 Vivek Venugopal: What. 343 Vivek Venugopal: somebody's doing today. 344 Gokhan Gokmen: Because neither of us really need to learn. 345 Gokhan Gokmen: The thing. 346 Gokhan Gokmen: i'm My only concern about machine learning is when people try to cut the corners. 347 Gokhan Gokmen: If part of the process is learning and if you do machine learning you get these. 348 Gokhan Gokmen: categories, but you don't feel the written materials, so I think that is important if it's important to read the whole thing and really understand it. 349 Gokhan Gokmen: Then you need to spend time and read and understand it really deeply as possible, you can, but at this part of scenario process, neither of us really have to fully grasp, because what we learn later on wasn't really useful to the project. 350 Gokhan Gokmen: Neither I neither you are kind of Lena was in the workshops during. 351 Gokhan Gokmen: Choosing know these key drivers forming this niles So what we have learned through reading the papers. 352 Gokhan Gokmen: Really wasn't impactful on the scenario they will have control. 353 Gokhan Gokmen: So what we were tasked with is just generating these. 354 Gokhan Gokmen: These bullet points really and machine learning to read. 355 Gokhan Gokmen: So, because of that, I think, for this part of. 356 Gokhan Gokmen: scenario development process I think it's good it's efficient. 357 Vivek Venugopal: mm hmm so you said, efficient, can you elaborate on efficient. 358 Gokhan Gokmen: i'm efficient. 359 Vivek Venugopal: He has agreed, but can you can you elaborate efficiency, because. 360 Vivek Venugopal: Efficiency can mean a lot. 361 Vivek Venugopal: So what you mean by efficient one, of course, as you trained earlier time saving, maybe, or what What do you mean by efficient. 362 Gokhan Gokmen: The ratio of the useful work performed were machine or in a process to the total energy expanded or he taking. 363 Okay. 364 Vivek Venugopal: The definition of it so. 365 Gokhan Gokmen: So efficient in terms of time, efficient and Labor efficient saying, an action designed to achieve efficiency. 366 Gokhan Gokmen: So. 367 Gokhan Gokmen: cost efficient so avoiding waste basically so doing spending minimum effort and maximizing the outcome. 368 Gokhan Gokmen: So, in terms of energy effort money. 369 Gokhan Gokmen: over time. 370 Gokhan Gokmen: So what what was able to be to be produced was fruit juice and avoiding avoiding. 371 Gokhan Gokmen: Waste into energy effort money and time. 372 Vivek Venugopal: Now, one of the disadvantages you mentioned was that you know, in the scenario stage where you go about reading it, and then you will do an impact for. 373 Vivek Venugopal: Uncertainty kind of you know, classification of these words findings clusters in the next step in the intuitive logics of scenario planning you. 374 Vivek Venugopal: As in the team would go through the exercise of classifying the cluster the non self identity and its impact from this and through that scenario is the government so that would not be possible in using the machine learning so that was clearly a disadvantage, you mentioned what. 375 Vivek Venugopal: What let's now focus on only information gathering with that information gathering only do you foresee any disadvantages, you spoke about the advantages, but do you feel there could be some disadvantages of machine learning. 376 Gokhan Gokmen: It depends on the team, the. 377 Gokhan Gokmen: there's always. 378 Gokhan Gokmen: Rates of error. 379 Gokhan Gokmen: And it depends on the team, so one team might be prone to 10% error. 380 Gokhan Gokmen: In terms of missing information or miss miss categorizing information. 381 Gokhan Gokmen: So I think that comes down to how, what is the error rate of machine learning in average and what is the error rate of. 382 Gokhan Gokmen: Researchers as a team in average and which one has the least error. 383 Gokhan Gokmen: I find the machine learning outcomes surprisingly good. 384 Vivek Venugopal: Now, going back to the workbook late now. 385 Vivek Venugopal: Remember, we will get gathering information that we did and putting it classifying them in the workbook which was predefined you know coding it in a way, you know seven heading seven, understand and Point two bullet point course in now with that. 386 Vivek Venugopal: In that stage of information gathering, do you feel that. 387 Vivek Venugopal: There was an exhaustive search or the workbook was exhausted, or whether there was a scope for a including more information that could not be put in. 388 Vivek Venugopal: or buddy are you completely satisfied considering everything you see that the workbook was at the place it should be. 389 Gokhan Gokmen: Sorry. 390 Gokhan Gokmen: know. 391 Vivek Venugopal: What I said was we were a lot of fun just not the three of us and it led to a different team, the International centers participating like an Asia. 392 Vivek Venugopal: So now we were updating the workbook based on various resources that we were getting Catalina was trying to remove duplicates ensuring no duplicates there, she was trying to compile it. 393 Vivek Venugopal: So there was a lot of things going on lots of activities around diversity going on, so my question is with all these activities, do you think that. 394 Vivek Venugopal: We got a superior workbook which was exhaustive in covering a lot of material or do you think that it wasn't an exhaustive, there was a scope of improvement, or that the wordpress was cluttered because of the season, are you completely satisfied with the workbook. 395 Vivek Venugopal: How would you go about thinking about the. 396 Gokhan Gokmen: it's hard to make a decision. 397 Vivek Venugopal: On let me, let me reword it, I think I know I understand is just. 398 Gokhan Gokmen: I mean, I think it's covered the essentials. 399 Gokhan Gokmen: To answer to this question. 400 Gokhan Gokmen: confidently if I had a list of like a checklist these should be through that this should be included me find the air that's ideal checklist to what we did. 401 Gokhan Gokmen: I could answer. 402 Gokhan Gokmen: Very confidently. 403 Vivek Venugopal: Absolutely your life, so let me to what I actually wanted to ask you what intuitively do you think that we missed out or there's a possibility that we missed out on including certain information into the workbook. 404 Vivek Venugopal: Or we managed with whatever we could, as in this is what we would get if you. 405 Gokhan Gokmen: Know machine learning outcomes and i'm wondering why nba wasn't very much. 406 Gokhan Gokmen: discussed in the workbook. 407 Gokhan Gokmen: So I don't know why. 408 Gokhan Gokmen: nba. 409 Gokhan Gokmen: should have been covered more frequently in the. 410 Gokhan Gokmen: In the. 411 Gokhan Gokmen: workbook. 412 Gokhan Gokmen: Although nba I see quite a lot of MBA from curliness parks. 413 Gokhan Gokmen: No control anything. 414 Gokhan Gokmen: You find some nba the matrix yeah stuff as well Okay, so we we didn't miss it out. 415 Gokhan Gokmen: nba. 416 Gokhan Gokmen: I had nothing about MBA. 417 Gokhan Gokmen: But YouTube YouTube brought up a couple of publications talking about MBA in sustainability such mbas instructor, so I think it was good and. 418 Gokhan Gokmen: I think this was sufficient. 419 Vivek Venugopal: Okay yeah. 420 Vivek Venugopal: Now. 421 Vivek Venugopal: From the workbook the clusters were extracted. 422 Vivek Venugopal: late. 423 Vivek Venugopal: yeah so there was quite a lot of information that people had to go through, and come up with a cluster. 424 yeah. 425 Vivek Venugopal: And you say that mbas were missed out. 426 Gokhan Gokmen: So yeah. 427 Vivek Venugopal: Do you think that. 428 Vivek Venugopal: by us. 429 Gokhan Gokmen: So I don't know what what form of this series people go. 430 Gokhan Gokmen: I just don't say. 431 Vivek Venugopal: Well, fair enough it's a very subjective thing, so you know, depending on the group dynamics, the group involved. 432 Gokhan Gokmen: No, I mean i'm looking at the rough draft with it. 433 Gokhan Gokmen: I hope that copy in front of me what. 434 Gokhan Gokmen: happened there was further process her Lena I think prepared a readable proper workbook. 435 Gokhan Gokmen: which included neatly. 436 Gokhan Gokmen: Presented key drivers or uncertainties in in bullet points like in a nicer fashion, I don't have that copy in front of me so i'm wondering what Carolina did and i'm wondering if she if she didn't emphasize. 437 MBA. 438 Gokhan Gokmen: Because you know why you transfer data from one format to another there might be problems. 439 Gokhan Gokmen: So i'm wondering how how that transfer happens. 440 Gokhan Gokmen: Somehow she didn't have Maybe she if she missed out or if she didn't have the size, I don't know how how what what kind of Lists three people got some i'm curious about that. 441 Vivek Venugopal: If. 442 Vivek Venugopal: It was the workbook as in a more structured more more for matter, they can say more formatted version yeah the workbook which was. 443 Gokhan Gokmen: I don't see the fight I wish I could see. 444 Vivek Venugopal: mm hmm no problem, so now. 445 Vivek Venugopal: yeah pretty much it, so thank you for your time and. 446 Vivek Venugopal: It was wonderful speaking to you. 447 Gokhan Gokmen: I think I said. 448 Gokhan Gokmen: Right, there is a list of. 449 Gokhan Gokmen: Words file. 450 Gokhan Gokmen: No, we didn't finish discussing with it, I didn't answer your question. 451 Vivek Venugopal: No, you. 452 Gokhan Gokmen: Why are you shutting. 453 Vivek Venugopal: Shutting down, I did not know no sorry. 454 Vivek Venugopal: What I meant to famous. 455 Vivek Venugopal: I mean this. 456 Vivek Venugopal: Information was not planning, so there was no way you could answer the question, so I assume that they're going to. 457 Gokhan Gokmen: I think I found it yeah. 458 Gokhan Gokmen: So nba. 459 Gokhan Gokmen: Now there's nothing about mbas. 460 Gokhan Gokmen: If if if this file is the right one if this is the file Zurich people got. 461 Gokhan Gokmen: It, this is a word file pre determines and uncertainties. 462 Gokhan Gokmen: there's nothing about MBA here. 463 Gokhan Gokmen: So. 464 Gokhan Gokmen: yeah. 465 Gokhan Gokmen: Maybe it was Peter I don't know who who handled press of data and. 466 Gokhan Gokmen: Maybe this is something else, anyway, so we don't know I think it's important to be about. 467 Gokhan Gokmen: The follow up of what what we dropped it and who who later process. 468 Gokhan Gokmen: That data and what these people received eventually will continue the blame them. 469 Gokhan Gokmen: Over if what they received was missing. 470 Vivek Venugopal: or hope. 471 Gokhan Gokmen: or not comprehensive comprehensive, in the sense of what called that's called what we did was comprehensive. 472 Gokhan Gokmen: What they receive dozens of full 100%. 473 Vivek Venugopal: reflective of it. 474 Yes. 475 Gokhan Gokmen: it's like a bucket of water dripping. 476 till it gets whoa. 477 Vivek Venugopal: whoa whoa. 478 Vivek Venugopal: i'm just making a quick note yeah. 479 Gokhan Gokmen: But the same issue might have happened to machine learning outcomes as well. 480 Because. 481 Gokhan Gokmen: it's if you. 482 Gokhan Gokmen: see some of these machine learning outcomes are quite relevant. 483 Gokhan Gokmen: overlapping, so you might feel like. 484 Gokhan Gokmen: Oh, I will put these two together we re re label it. 485 Gokhan Gokmen: So, every time you I think you know. 486 Gokhan Gokmen: The a bit form of analysis or restructuring. 487 Gokhan Gokmen: That there is a possibility of making a mistake. 488 Gokhan Gokmen: Over looking at some stuff so some prospects. 489 Vivek Venugopal: No absolutely. 490 Vivek Venugopal: Good so. 491 Gokhan Gokmen: So what I say is yes it's efficient time efficient money efficient. 492 Gokhan Gokmen: For this part of the project, I think yeah. 493 Gokhan Gokmen: Which means. 494 Gokhan Gokmen: You know machine taking our jobs. 495 Gokhan Gokmen: I mean. 496 Gokhan Gokmen: machines love taking our job, one person is taking. 497 Gokhan Gokmen: Five people's jobs. 498 Gokhan Gokmen: One person being you for. 499 Vivek Venugopal: Good good alright so i'm going to stop recording now. 500 Vivek Venugopal: Okay.\""
      ]
     },
     "execution_count": 36,
     "metadata": {},
     "output_type": "execute_result"
    }
   ],
   "source": [
    "clean_text = ' '.join(text3)\n",
    "clean_text"
   ]
  },
  {
   "cell_type": "markdown",
   "id": "f7325e7e",
   "metadata": {},
   "source": [
    "#### Creating a new .txt file without timestamp\n",
    "1. Change the file name as per need."
   ]
  },
  {
   "cell_type": "code",
   "execution_count": 37,
   "id": "1366a75c",
   "metadata": {},
   "outputs": [],
   "source": [
    "with open(\"Output.txt\", \"w\") as f:\n",
    "    f.write(clean_text)\n",
    "f.close()"
   ]
  }
 ],
 "metadata": {
  "kernelspec": {
   "display_name": "Python 3",
   "language": "python",
   "name": "python3"
  },
  "language_info": {
   "codemirror_mode": {
    "name": "ipython",
    "version": 3
   },
   "file_extension": ".py",
   "mimetype": "text/x-python",
   "name": "python",
   "nbconvert_exporter": "python",
   "pygments_lexer": "ipython3",
   "version": "3.8.10"
  }
 },
 "nbformat": 4,
 "nbformat_minor": 5
}
